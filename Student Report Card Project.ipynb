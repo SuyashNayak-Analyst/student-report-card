{
 "cells": [
  {
   "cell_type": "markdown",
   "id": "3537f26c-1bc7-4033-a451-dc991e52ac57",
   "metadata": {},
   "source": [
    "# Student Report Card Project"
   ]
  },
  {
   "cell_type": "code",
   "execution_count": 2,
   "id": "e9df336d-6290-4a6b-9882-d0c8256a7f9e",
   "metadata": {},
   "outputs": [],
   "source": [
    "import numpy as np\n",
    "\n",
    "students = [\"Suyash\", \"Rajesh\", \"Dinesh\", \"Ravish\", \"Amrish\"]\n",
    "subjects = [\"Math\", \"Science\", \"History\", \"English\", \"Hindi\"]\n",
    "\n",
    "marks = np.array([\n",
    "    [78, 85, 90, 66, 72],\n",
    "    [65, 70, 67, 45, 50],\n",
    "    [92, 90, 89, 85, 95],\n",
    "    [35, 40, 45, 25, 30],\n",
    "    [72, 74, 68, 65, 70]\n",
    "])"
   ]
  },
  {
   "cell_type": "code",
   "execution_count": 6,
   "id": "263a77c6-5db5-4f54-a779-a7e24ccd9597",
   "metadata": {},
   "outputs": [
    {
     "name": "stdout",
     "output_type": "stream",
     "text": [
      "Student     Math      Science   History   English   Hindi     Total      Percentage   Status     Remark\n",
      "Suyash      78        85        90        66        72        391        78.20        Pass       \n",
      "Rajesh      65        70        67        45        50        297        59.40        Pass       \n",
      "Dinesh      92        90        89        85        95        451        90.20        Pass       Topper 🎉\n",
      "Ravish      35        40        45        25        30        175        35.00        Fail       \n",
      "Amrish      72        74        68        65        70        349        69.80        Pass       \n"
     ]
    }
   ],
   "source": [
    "# Calculate percentages of all students first\n",
    "\n",
    "\n",
    "# Print header row\n",
    "print(\"Student\".ljust(12), end=\"\")\n",
    "for subject in subjects:\n",
    "    print(subject.ljust(10), end=\"\")\n",
    "print(\"Total\".ljust(10), \"Percentage\".ljust(12), \"Status\".ljust(10), \"Remark\")\n",
    "\n",
    "# Find topper's index\n",
    "topper_index = np.argmax(percentages)   # student with max percentage\n",
    "\n",
    "# Print each student's row\n",
    "for i, student in enumerate(students):\n",
    "    print(student.ljust(12), end=\"\")\n",
    "\n",
    "    # Print marks\n",
    "    for j in range(len(subjects)):\n",
    "        print(str(marks[i][j]).ljust(10), end=\"\")\n",
    "\n",
    "    # Total and percentage\n",
    "    total = np.sum(marks[i])\n",
    "    percentage = total / len(subjects)\n",
    "    \n",
    "    # Percentages of all students first\n",
    "    percentages = [np.sum(marks[i]) / len(subjects) for i in range(len(students))]\n",
    "    # Find topper's index\n",
    "    topper_index = np.argmax(percentages)   # student with max percentage\n",
    "    \n",
    "    # Pass/Fail\n",
    "    status = \"Pass\" if percentage >= 40 else \"Fail\"\n",
    "\n",
    "    # Remark: topper or not\n",
    "    remark = \"Topper 🎉\" if i == topper_index else \"\"\n",
    "\n",
    "    # Print total, percentage, status, remark\n",
    "    print(str(total).ljust(10), f\"{percentage:.2f}\".ljust(12), status.ljust(10), remark)"
   ]
  },
  {
   "cell_type": "code",
   "execution_count": null,
   "id": "d188edf9-5c63-4cdb-901d-d6281cd418e4",
   "metadata": {},
   "outputs": [],
   "source": []
  },
  {
   "cell_type": "code",
   "execution_count": null,
   "id": "bb4ae659-59a5-4e90-b9a7-4f6ce283a4bc",
   "metadata": {},
   "outputs": [],
   "source": []
  },
  {
   "cell_type": "code",
   "execution_count": null,
   "id": "7472ad99-d314-4b49-8bd9-0f951b702750",
   "metadata": {},
   "outputs": [],
   "source": []
  },
  {
   "cell_type": "code",
   "execution_count": null,
   "id": "138afc54-b6c0-402d-ba7f-975d44a6624d",
   "metadata": {},
   "outputs": [],
   "source": []
  }
 ],
 "metadata": {
  "kernelspec": {
   "display_name": "Python 3 (ipykernel)",
   "language": "python",
   "name": "python3"
  },
  "language_info": {
   "codemirror_mode": {
    "name": "ipython",
    "version": 3
   },
   "file_extension": ".py",
   "mimetype": "text/x-python",
   "name": "python",
   "nbconvert_exporter": "python",
   "pygments_lexer": "ipython3",
   "version": "3.13.4"
  }
 },
 "nbformat": 4,
 "nbformat_minor": 5
}
